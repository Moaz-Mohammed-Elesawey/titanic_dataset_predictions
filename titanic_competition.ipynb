{
 "cells": [
  {
   "cell_type": "code",
   "execution_count": 74,
   "metadata": {},
   "outputs": [],
   "source": [
    "import sklearn\n",
    "import numpy as np\n",
    "import pandas as pd\n",
    "import matplotlib.pyplot as plt\n",
    "%matplotlib inline"
   ]
  },
  {
   "cell_type": "code",
   "execution_count": 75,
   "metadata": {},
   "outputs": [],
   "source": [
    "from sklearn.model_selection import train_test_split\n",
    "from sklearn.tree import DecisionTreeClassifier\n",
    "from sklearn.ensemble import RandomForestClassifier, AdaBoostClassifier\n",
    "from sklearn.neighbors import KNeighborsClassifier\n",
    "from sklearn.gaussian_process import GaussianProcessClassifier\n",
    "from sklearn.metrics import accuracy_score"
   ]
  },
  {
   "cell_type": "code",
   "execution_count": 76,
   "metadata": {},
   "outputs": [],
   "source": [
    "def change_sex(x):\n",
    "    if x == 'male':\n",
    "        return 0\n",
    "    elif x == 'female':\n",
    "        return 1"
   ]
  },
  {
   "cell_type": "code",
   "execution_count": 77,
   "metadata": {},
   "outputs": [],
   "source": [
    "def change_Embark(x):\n",
    "    if x == 'S':\n",
    "        return 0\n",
    "    elif x == 'C':\n",
    "        return 1\n",
    "    elif x == 'Q':\n",
    "        return 2"
   ]
  },
  {
   "cell_type": "code",
   "execution_count": 78,
   "metadata": {},
   "outputs": [],
   "source": [
    "def get_train_data_ready(file_name='train.csv'):\n",
    "    data = pd.read_csv(file_name).copy()\n",
    "    data.set_index('PassengerId', inplace=True)\n",
    "    data.fillna(0, inplace=True)\n",
    "    data.drop([\"Name\", 'Cabin', 'Ticket'], axis=1, inplace=True)\n",
    "    data['Age'] = data['Age'] / 80.000\n",
    "    data['Fare'] = data['Fare'] / 512.329200\n",
    "    data['Sex'] = data['Sex'].apply(change_sex)\n",
    "    data['Embarked'] = data['Embarked'].apply(change_Embark)\n",
    "    survived = np.array(data.pop('Survived'))\n",
    "    data = np.array(data)\n",
    "    return data, survived\n",
    "X, Y = get_train_data_ready()\n"
   ]
  },
  {
   "cell_type": "code",
   "execution_count": 79,
   "metadata": {},
   "outputs": [],
   "source": [
    "X = np.nan_to_num(X)\n",
    "Y = np.nan_to_num(Y)"
   ]
  },
  {
   "cell_type": "code",
   "execution_count": 80,
   "metadata": {},
   "outputs": [],
   "source": [
    "def get_test_data_ready(file_name='test.csv'):\n",
    "    data = pd.read_csv(file_name).copy()\n",
    "    data.set_index('PassengerId', inplace=True)\n",
    "    data.fillna(0, inplace=True)\n",
    "    data.drop([\"Name\", 'Cabin', 'Ticket'], axis=1, inplace=True)\n",
    "    data['Age'] = data['Age'] / 80.000\n",
    "    data['Fare'] = data['Fare'] / 512.329200\n",
    "    data['Sex'] = data['Sex'].apply(change_sex)\n",
    "    data['Embarked'] = data['Embarked'].apply(change_Embark)\n",
    "    data = np.array(data)\n",
    "    return data\n",
    "test_data = get_test_data_ready()"
   ]
  },
  {
   "cell_type": "code",
   "execution_count": 81,
   "metadata": {},
   "outputs": [
    {
     "data": {
      "text/plain": [
       "((891, 7), (891,), (418, 7))"
      ]
     },
     "execution_count": 81,
     "metadata": {},
     "output_type": "execute_result"
    }
   ],
   "source": [
    "X.shape, Y.shape, test_data.shape"
   ]
  },
  {
   "cell_type": "markdown",
   "metadata": {},
   "source": [
    "## RandomForestClassifier"
   ]
  },
  {
   "cell_type": "code",
   "execution_count": 97,
   "metadata": {},
   "outputs": [
    {
     "name": "stdout",
     "output_type": "stream",
     "text": [
      "0.9473684210526315\n",
      "0.9473684210526315\n"
     ]
    }
   ],
   "source": [
    "y_test = np.array(pd.read_csv(\"gender_submission.csv\")['Survived'])\n",
    "best = 0\n",
    "clf_2 = RandomForestClassifier(n_estimators=10, max_depth=6, n_jobs=1, verbose=0)\n",
    "for i in range(10000):\n",
    "    clf_2.fit(X, Y)\n",
    "    predictions_2 = clf_2.predict(test_data)\n",
    "    acc = accuracy_score(predictions_2, y_test) \n",
    "    if acc > best:\n",
    "        best = acc\n",
    "        predict = predictions_2\n",
    "    else:\n",
    "        pass\n",
    "print(best)\n",
    "print(accuracy_score(predict, y_test))"
   ]
  },
  {
   "cell_type": "code",
   "execution_count": 98,
   "metadata": {},
   "outputs": [],
   "source": [
    "output_1 = pd.DataFrame({\"PassengerId\" : np.arange(892, 1310),\n",
    "                         \"Survived\" : predict\n",
    "                        }).to_csv('predictions.csv', index=False)"
   ]
  },
  {
   "cell_type": "code",
   "execution_count": 99,
   "metadata": {},
   "outputs": [],
   "source": [
    "y_test = np.array(pd.read_csv(\"gender_submission.csv\")['Survived'])"
   ]
  },
  {
   "cell_type": "code",
   "execution_count": 100,
   "metadata": {},
   "outputs": [
    {
     "data": {
      "text/plain": [
       "0.9473684210526315"
      ]
     },
     "execution_count": 100,
     "metadata": {},
     "output_type": "execute_result"
    }
   ],
   "source": [
    "accuracy_score(predict, y_test) "
   ]
  },
  {
   "cell_type": "code",
   "execution_count": null,
   "metadata": {},
   "outputs": [],
   "source": []
  }
 ],
 "metadata": {
  "kernelspec": {
   "display_name": "Python 3",
   "language": "python",
   "name": "python3"
  },
  "language_info": {
   "codemirror_mode": {
    "name": "ipython",
    "version": 3
   },
   "file_extension": ".py",
   "mimetype": "text/x-python",
   "name": "python",
   "nbconvert_exporter": "python",
   "pygments_lexer": "ipython3",
   "version": "3.7.6"
  }
 },
 "nbformat": 4,
 "nbformat_minor": 4
}
